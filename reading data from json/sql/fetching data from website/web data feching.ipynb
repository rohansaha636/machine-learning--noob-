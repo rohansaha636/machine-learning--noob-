{
 "cells": [
  {
   "cell_type": "markdown",
   "id": "abbd0154",
   "metadata": {},
   "source": [
    "we are going to fetch data from a website"
   ]
  },
  {
   "cell_type": "code",
   "execution_count": 1,
   "id": "cdcd5c9c",
   "metadata": {},
   "outputs": [],
   "source": [
    "import pandas as pd \n",
    "import requests\n",
    "from bs4 import BeautifulSoup"
   ]
  },
  {
   "cell_type": "code",
   "execution_count": 2,
   "id": "0b434e4a",
   "metadata": {},
   "outputs": [
    {
     "data": {
      "text/plain": [
       "<Response [403]>"
      ]
     },
     "execution_count": 2,
     "metadata": {},
     "output_type": "execute_result"
    }
   ],
   "source": [
    "requests.get('https://www.ambitionbox.com/list-of-companies?page=1')"
   ]
  },
  {
   "cell_type": "markdown",
   "id": "cf87c752",
   "metadata": {},
   "source": [
    "403 means bad request , server has denied our request"
   ]
  },
  {
   "cell_type": "code",
   "execution_count": 3,
   "id": "1f84522e",
   "metadata": {},
   "outputs": [
    {
     "data": {
      "text/plain": [
       "'<HTML><HEAD>\\n<TITLE>Access Denied</TITLE>\\n</HEAD><BODY>\\n<H1>Access Denied</H1>\\n \\nYou don\\'t have permission to access \"http&#58;&#47;&#47;www&#46;ambitionbox&#46;com&#47;list&#45;of&#45;companies&#63;\" on this server.<P>\\nReference&#32;&#35;18&#46;d7a4d417&#46;1754077217&#46;2239f5e4\\n<P>https&#58;&#47;&#47;errors&#46;edgesuite&#46;net&#47;18&#46;d7a4d417&#46;1754077217&#46;2239f5e4</P>\\n</BODY>\\n</HTML>\\n'"
      ]
     },
     "execution_count": 3,
     "metadata": {},
     "output_type": "execute_result"
    }
   ],
   "source": [
    "requests.get('https://www.ambitionbox.com/list-of-companies?page=1').text"
   ]
  },
  {
   "cell_type": "markdown",
   "id": "d807fb29",
   "metadata": {},
   "source": [
    "request has denied it is show in text"
   ]
  },
  {
   "cell_type": "code",
   "execution_count": null,
   "id": "5fefe8bd",
   "metadata": {},
   "outputs": [],
   "source": [
    "headers ={ 'User-Agent': 'Mozilla/5.0 (Windows NT 10.0; Win64; x64) AppleWebKit/537.36 (KHTML, like Gecko) Chrome/58.0.3029.110 Safari/537.3'}\n",
    "requests.get('https://www.ambitionbox.com/list-of-companies?page=1',headers =headers).text"
   ]
  },
  {
   "cell_type": "code",
   "execution_count": 2,
   "id": "21e129a8",
   "metadata": {},
   "outputs": [
    {
     "data": {
      "text/plain": [
       "<Response [200]>"
      ]
     },
     "execution_count": 2,
     "metadata": {},
     "output_type": "execute_result"
    }
   ],
   "source": [
    "requests.get('https://plugapi.vercel.app/index')"
   ]
  },
  {
   "cell_type": "code",
   "execution_count": 3,
   "id": "66c34d76",
   "metadata": {},
   "outputs": [
    {
     "data": {
      "text/plain": [
       "'<!doctype html>\\n<html lang=\"en\">\\n  <head>\\n    <meta charset=\"UTF-8\" />\\n    <link rel=\"icon\" type=\"image/svg+xml\" href=\"/assets/logo-B_u872jY.png\" />\\n    <meta name=\"viewport\" content=\"width=device-width, initial-scale=1.0\" />\\n    <title>PlugAPI</title>\\n    <meta name=\"description\" content=\"Simplify your projects with ready-to-use authentication and user management APIs. Register, login, view users, and delete users easily with our secure API platform.\">\\n    <meta name=\"keywords\" content=\"API platform, authentication API, user management API, register API, login API, delete user API, get all users API, backend integration, developer tools\">\\n    <script type=\"module\" crossorigin src=\"/assets/index-B7KKLpG-.js\"></script>\\n    <link rel=\"stylesheet\" crossorigin href=\"/assets/index-DBEXgrUJ.css\">\\n  </head>\\n  <body>\\n    <div id=\"root\"></div>\\n  </body>\\n</html>\\n'"
      ]
     },
     "execution_count": 3,
     "metadata": {},
     "output_type": "execute_result"
    }
   ],
   "source": [
    "requests.get('https://plugapi.vercel.app/index').text"
   ]
  },
  {
   "cell_type": "code",
   "execution_count": null,
   "id": "bb64b1d6",
   "metadata": {},
   "outputs": [],
   "source": []
  }
 ],
 "metadata": {
  "kernelspec": {
   "display_name": "base",
   "language": "python",
   "name": "python3"
  },
  "language_info": {
   "codemirror_mode": {
    "name": "ipython",
    "version": 3
   },
   "file_extension": ".py",
   "mimetype": "text/x-python",
   "name": "python",
   "nbconvert_exporter": "python",
   "pygments_lexer": "ipython3",
   "version": "3.13.5"
  }
 },
 "nbformat": 4,
 "nbformat_minor": 5
}
